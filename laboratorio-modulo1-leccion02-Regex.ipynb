{
 "cells": [
  {
   "cell_type": "markdown",
   "metadata": {},
   "source": [
    "<div style=\"text-align: center;\">\n",
    "  <img src=\"https://github.com/Hack-io-Data/Imagenes/blob/main/01-LogosHackio/logo_naranja@4x.png?raw=true\" alt=\"esquema\" />\n",
    "</div>"
   ]
  },
  {
   "cell_type": "markdown",
   "metadata": {},
   "source": [
    "# Laboratorio de Regex:"
   ]
  },
  {
   "cell_type": "markdown",
   "metadata": {},
   "source": [
    "### Ejercicio 1: Extracción de datos.\n",
    "\n",
    "Recuerda que necesitamos hacer importaciones antes de enfrentarnos a un problema. "
   ]
  },
  {
   "cell_type": "code",
   "execution_count": 17,
   "metadata": {},
   "outputs": [],
   "source": [
    "# Importaciones:\n",
    "## Para trabajar con expresiones regulares\n",
    "import re \n",
    "\n",
    "## Para contar las palabras de un texto \n",
    "from collections import Counter "
   ]
  },
  {
   "cell_type": "markdown",
   "metadata": {},
   "source": [
    "Dado el archivo `datos_artistas.txt` usa las **expresiones regulares** para extraer los siguientes datos, con el código que encontrarás en la siguiente celda:"
   ]
  },
  {
   "cell_type": "code",
   "execution_count": 18,
   "metadata": {},
   "outputs": [
    {
     "name": "stdout",
     "output_type": "stream",
     "text": [
      "BobDylan bob.dylan@gmail.com -1 123456789 http://bobdylan.com Like a Rolling Stone - 6:13 1965 Once upon a time you dressed so fine\n",
      "Threw the bums a dime in your prime, didn't you?\n",
      "People call say 'be\n"
     ]
    }
   ],
   "source": [
    "with open('Datos\\datos_artistas.txt', 'r',encoding=\"utf8\") as archivo:\n",
    "    contenido = archivo.read()\n",
    "    # Aquí puedes trabajar con el contenido del archivo\n",
    "\n",
    "print(contenido[:200])"
   ]
  },
  {
   "cell_type": "markdown",
   "metadata": {},
   "source": [
    "#### 1.1 La información de cada artista(nombre, correo de contacto, número de contacto y sitio web)."
   ]
  },
  {
   "cell_type": "code",
   "execution_count": 140,
   "metadata": {},
   "outputs": [
    {
     "name": "stdout",
     "output_type": "stream",
     "text": [
      "[{'Nombre': 'BobDylan', 'Correo electrónico': 'bob.dylan@gmail.com ', 'Número de contacto': '+1 123456789', 'Sitio Web': 'http://bobdylan.com '}, {'Nombre': 'TheBeatles', 'Correo electrónico': 'elton.john@hotmail.com ', 'Número de contacto': '+44 234567890', 'Sitio Web': 'http://eltonjohn.com '}, {'Nombre': 'EltonJohn', 'Correo electrónico': 'info@queenonline.com ', 'Número de contacto': '+34 345678901', 'Sitio Web': 'http://queenonline.com '}, {'Nombre': 'Queen', 'Correo electrónico': 'michael.jackson@yahoo.com ', 'Número de contacto': '+23 456789012', 'Sitio Web': 'http://michaeljackson.com '}, {'Nombre': 'MichaelJackson', 'Correo electrónico': 'madonna@madonna.com ', 'Número de contacto': '+1 567890123', 'Sitio Web': 'http://madonna.com '}, {'Nombre': 'Madonna', 'Correo electrónico': 'david.bowie@outlook.com ', 'Número de contacto': '+11 678901234', 'Sitio Web': 'http://davidbowie.com '}, {'Nombre': 'DavidBowie', 'Correo electrónico': 'contact@nirvana.com ', 'Número de contacto': '+44 789012345', 'Sitio Web': 'http://nirvana.com '}, {'Nombre': 'Nirvana', 'Correo electrónico': 'adele@adele.com ', 'Número de contacto': '+2 890123456', 'Sitio Web': 'http://adele.com '}, {'Nombre': 'Adele', 'Correo electrónico': 'ed.sheeran@gmail.com ', 'Número de contacto': '+44 901234567', 'Sitio Web': 'http://edsheeran.com '}, {'Nombre': 'EdSheeran', 'Correo electrónico': 'beyonce@beyonce.com ', 'Número de contacto': '+44 123456789', 'Sitio Web': 'http://beyonce.com '}, {'Nombre': 'Beyoncé', 'Correo electrónico': 'taylor.swift@yahoo.com ', 'Número de contacto': '+1 234567890', 'Sitio Web': 'http://taylorswift.com '}, {'Nombre': 'TaylorSwift', 'Correo electrónico': 'rihanna@hotmail.com ', 'Número de contacto': '+34 345678901', 'Sitio Web': 'http://rihanna.com '}, {'Nombre': 'Rihanna', 'Correo electrónico': 'drake@drake.com ', 'Número de contacto': '+1 456789012', 'Sitio Web': 'http://drake.com '}, {'Nombre': 'Drake,', 'Correo electrónico': 'kanye.west@gmail.com ', 'Número de contacto': '+54 567890123', 'Sitio Web': 'http://kanyewest.com '}, {'Nombre': 'KanyeWest', 'Correo electrónico': 'bruno.mars@outlook.com ', 'Número de contacto': '+13 678901234', 'Sitio Web': 'https://brunomars.com '}, {'Nombre': 'BrunoMars', 'Correo electrónico': 'ariana.grande@yahoo.com ', 'Número de contacto': '+1 789012345', 'Sitio Web': 'https://arianagrande.com '}, {'Nombre': 'ArianaGrande', 'Correo electrónico': 'shakira@hotmail.com ', 'Número de contacto': '+23 890123456', 'Sitio Web': 'http://shakira.com '}, {'Nombre': 'Shakira,', 'Correo electrónico': 'info@coldplay.com ', 'Número de contacto': '+57 123456789', 'Sitio Web': 'http://coldplay.com '}, {'Nombre': 'Coldplay', 'Correo electrónico': 'lady.gaga@gmail.com ', 'Número de contacto': '+57 234567890', 'Sitio Web': 'https://ladygaga.com '}]\n"
     ]
    }
   ],
   "source": [
    "import re\n",
    "def obtenernombre(lista_nombre):\n",
    "    \"\"\"_Obtener Nombre_\n",
    "\n",
    "    Args:\n",
    "        lista_nombre (lista): _recibe una lista de string_\n",
    "\n",
    "    Returns:\n",
    "        _string_: _Splitea la lista en otra y devuelve el primer valor_\n",
    "    \"\"\"\n",
    "    separar = lista_nombre.split()\n",
    "    nombre = separar[0]\n",
    "    return nombre\n",
    "\n",
    "def crear_diccionario(name, email, number, site):\n",
    "    dickens = {\"Nombre\" : name,\"Correo electrónico\": email,\"Número de contacto\":number,\"Sitio Web\": site}\n",
    "    return dickens\n",
    "\n",
    "def add_prefijo(valor):\n",
    "    return re.sub(\"[-]\",\"+\",valor)\n",
    "\n",
    "contenido_separado = contenido.split(\"./\")\n",
    "patron_correo = r\"\\w+\\.?\\w+[@]+[a-zA-Z]*\\.\\w{2,3}\\s\"\n",
    "patron_web = r\"\\w+[:/]+[a-zA-Z]*\\.\\w{2,3}\\s\"\n",
    "patron_telefono = r\"[-]\\d{1,2}\\s\\d{9}\"\n",
    "\n",
    "nombre = list(map(obtenernombre,contenido_separado))\n",
    "correo = re.findall(patron_correo,contenido)\n",
    "telefono = re.findall(patron_telefono,contenido)\n",
    "telefono = list(map(add_prefijo,telefono))\n",
    "web = re.findall(patron_web,contenido)\n",
    "artistas = list(map(crear_diccionario,nombre,correo,telefono,web))\n",
    "print(artistas)"
   ]
  },
  {
   "cell_type": "markdown",
   "metadata": {},
   "source": [
    "#### 1.2 La información de cada canción(título, duración y fecha de lanzamiento)."
   ]
  },
  {
   "cell_type": "code",
   "execution_count": 172,
   "metadata": {},
   "outputs": [
    {
     "name": "stdout",
     "output_type": "stream",
     "text": [
      "[{'Título': 'Like a Rolling Stone', 'Duración': '6:13', 'Fecha de lanzamiento': '1965'}, {'Título': 'Hey Jude', 'Duración': '7:11', 'Fecha de lanzamiento': '1968'}, {'Título': 'Your Song', 'Duración': '4:01', 'Fecha de lanzamiento': '1970'}, {'Título': 'Bohemian Rhapsody', 'Duración': '5:55', 'Fecha de lanzamiento': '1975'}, {'Título': 'Billie Jean', 'Duración': '4:54', 'Fecha de lanzamiento': '1982'}, {'Título': 'Like a Prayer', 'Duración': '5:43', 'Fecha de lanzamiento': '1989'}, {'Título': 'Space Oddity', 'Duración': '5:18', 'Fecha de lanzamiento': '1969'}, {'Título': 'Smells Like Teen Spirit', 'Duración': '5:01', 'Fecha de lanzamiento': '1991'}, {'Título': 'Someone Like You', 'Duración': '4:45', 'Fecha de lanzamiento': '2011'}, {'Título': 'Shape of You', 'Duración': '3:53', 'Fecha de lanzamiento': '2017'}, {'Título': 'Halo', 'Duración': '4:21', 'Fecha de lanzamiento': '2008'}, {'Título': 'Blank Space', 'Duración': '3:52', 'Fecha de lanzamiento': '2014'}, {'Título': 'Diamonds', 'Duración': '3:45', 'Fecha de lanzamiento': '2012'}, {'Título': 'Hotline Bling', 'Duración': '4:27', 'Fecha de lanzamiento': '2015'}, {'Título': 'Stronger', 'Duración': '5:12', 'Fecha de lanzamiento': '2007'}, {'Título': 'Uptown Funk', 'Duración': '4:30', 'Fecha de lanzamiento': '2014'}, {'Título': '7 Rings', 'Duración': '2:58', 'Fecha de lanzamiento': '2019'}, {'Título': \"Hips Don't Lie\", 'Duración': '3:38', 'Fecha de lanzamiento': '2006'}, {'Título': 'Yellow', 'Duración': '4:26', 'Fecha de lanzamiento': '2000'}, {'Título': 'Bad Romance', 'Duración': '4:54', 'Fecha de lanzamiento': '2009'}]\n"
     ]
    }
   ],
   "source": [
    "#contenido está arriba\n",
    "def pictionary(title,duration,year):\n",
    "    \"\"\"_Crear Diccionario_\n",
    "\n",
    "    Args:\n",
    "        title (_list_): _Lista con el título extraído_\n",
    "        duration (_list_): _Lista con la duración extraída_\n",
    "        year (_list_): _Lista con el año extraído_\n",
    "\n",
    "    Returns:\n",
    "        _dict_: _Devuelve un diccionario el título de la canción, la duración y su año_\n",
    "    \"\"\"\n",
    "    canciones = {\"Título\":title,\"Duración\":duration,\"Fecha de lanzamiento\":year}\n",
    "    return canciones\n",
    "\n",
    "\n",
    "patron_titulo = r\"\\.+[a-z]{2,3}\\s(.\\D.+)\\s[-]\"\n",
    "patron_duracion = r\"\\d{1,2}[:]\\d{2}\"\n",
    "patron_fecha = r\"[:]\\d{2}\\s?[,]?(\\d{4})\"\n",
    "titulo = re.findall(patron_titulo,contenido)\n",
    "duracion = re.findall(patron_duracion,contenido)\n",
    "fecha_lanzamiento = re.findall(patron_fecha,contenido)\n",
    "canciones = list(map(pictionary,titulo,duracion,fecha_lanzamiento))\n",
    "print(canciones)"
   ]
  },
  {
   "cell_type": "markdown",
   "metadata": {},
   "source": [
    "#### 1.3 Almacena la información en una lista de diccionarios donde cada diccionario contenga los datos de un artista y su canción asociada."
   ]
  },
  {
   "cell_type": "code",
   "execution_count": 197,
   "metadata": {},
   "outputs": [
    {
     "data": {
      "text/plain": [
       "[{'Artista': 'Bob Dylan',\n",
       "  'Correo Electrónico': 'bob.dylan@gmail.com ',\n",
       "  'Teléfono de Contacto': '+1 123456789',\n",
       "  'Sitio Web': 'http://bobdylan.com ',\n",
       "  'Canción': 'Like a Rolling Stone',\n",
       "  'Duración': '6:13',\n",
       "  'Fecha de Lanzamiento': '1965'},\n",
       " {'Artista': 'The Beatles',\n",
       "  'Correo Electrónico': 'elton.john@hotmail.com ',\n",
       "  'Teléfono de Contacto': '+44 234567890',\n",
       "  'Sitio Web': 'http://eltonjohn.com ',\n",
       "  'Canción': 'Hey Jude',\n",
       "  'Duración': '7:11',\n",
       "  'Fecha de Lanzamiento': '1968'},\n",
       " {'Artista': 'Elton John',\n",
       "  'Correo Electrónico': 'info@queenonline.com ',\n",
       "  'Teléfono de Contacto': '+34 345678901',\n",
       "  'Sitio Web': 'http://queenonline.com ',\n",
       "  'Canción': 'Your Song',\n",
       "  'Duración': '4:01',\n",
       "  'Fecha de Lanzamiento': '1970'},\n",
       " {'Artista': 'Queen',\n",
       "  'Correo Electrónico': 'michael.jackson@yahoo.com ',\n",
       "  'Teléfono de Contacto': '+23 456789012',\n",
       "  'Sitio Web': 'http://michaeljackson.com ',\n",
       "  'Canción': 'Bohemian Rhapsody',\n",
       "  'Duración': '5:55',\n",
       "  'Fecha de Lanzamiento': '1975'},\n",
       " {'Artista': 'Michael Jackson',\n",
       "  'Correo Electrónico': 'madonna@madonna.com ',\n",
       "  'Teléfono de Contacto': '+1 567890123',\n",
       "  'Sitio Web': 'http://madonna.com ',\n",
       "  'Canción': 'Billie Jean',\n",
       "  'Duración': '4:54',\n",
       "  'Fecha de Lanzamiento': '1982'},\n",
       " {'Artista': 'Madonna',\n",
       "  'Correo Electrónico': 'david.bowie@outlook.com ',\n",
       "  'Teléfono de Contacto': '+11 678901234',\n",
       "  'Sitio Web': 'http://davidbowie.com ',\n",
       "  'Canción': 'Like a Prayer',\n",
       "  'Duración': '5:43',\n",
       "  'Fecha de Lanzamiento': '1989'},\n",
       " {'Artista': 'David Bowie',\n",
       "  'Correo Electrónico': 'contact@nirvana.com ',\n",
       "  'Teléfono de Contacto': '+44 789012345',\n",
       "  'Sitio Web': 'http://nirvana.com ',\n",
       "  'Canción': 'Space Oddity',\n",
       "  'Duración': '5:18',\n",
       "  'Fecha de Lanzamiento': '1969'},\n",
       " {'Artista': 'Nirvana',\n",
       "  'Correo Electrónico': 'adele@adele.com ',\n",
       "  'Teléfono de Contacto': '+2 890123456',\n",
       "  'Sitio Web': 'http://adele.com ',\n",
       "  'Canción': 'Smells Like Teen Spirit',\n",
       "  'Duración': '5:01',\n",
       "  'Fecha de Lanzamiento': '1991'},\n",
       " {'Artista': 'Adele',\n",
       "  'Correo Electrónico': 'ed.sheeran@gmail.com ',\n",
       "  'Teléfono de Contacto': '+44 901234567',\n",
       "  'Sitio Web': 'http://edsheeran.com ',\n",
       "  'Canción': 'Someone Like You',\n",
       "  'Duración': '4:45',\n",
       "  'Fecha de Lanzamiento': '2011'},\n",
       " {'Artista': 'Ed Sheeran',\n",
       "  'Correo Electrónico': 'beyonce@beyonce.com ',\n",
       "  'Teléfono de Contacto': '+44 123456789',\n",
       "  'Sitio Web': 'http://beyonce.com ',\n",
       "  'Canción': 'Shape of You',\n",
       "  'Duración': '3:53',\n",
       "  'Fecha de Lanzamiento': '2017'},\n",
       " {'Artista': 'Beyoncé',\n",
       "  'Correo Electrónico': 'taylor.swift@yahoo.com ',\n",
       "  'Teléfono de Contacto': '+1 234567890',\n",
       "  'Sitio Web': 'http://taylorswift.com ',\n",
       "  'Canción': 'Halo',\n",
       "  'Duración': '4:21',\n",
       "  'Fecha de Lanzamiento': '2008'},\n",
       " {'Artista': 'Taylor Swift',\n",
       "  'Correo Electrónico': 'rihanna@hotmail.com ',\n",
       "  'Teléfono de Contacto': '+34 345678901',\n",
       "  'Sitio Web': 'http://rihanna.com ',\n",
       "  'Canción': 'Blank Space',\n",
       "  'Duración': '3:52',\n",
       "  'Fecha de Lanzamiento': '2014'},\n",
       " {'Artista': 'Rihanna',\n",
       "  'Correo Electrónico': 'drake@drake.com ',\n",
       "  'Teléfono de Contacto': '+1 456789012',\n",
       "  'Sitio Web': 'http://drake.com ',\n",
       "  'Canción': 'Diamonds',\n",
       "  'Duración': '3:45',\n",
       "  'Fecha de Lanzamiento': '2012'},\n",
       " {'Artista': 'Drake,',\n",
       "  'Correo Electrónico': 'kanye.west@gmail.com ',\n",
       "  'Teléfono de Contacto': '+54 567890123',\n",
       "  'Sitio Web': 'http://kanyewest.com ',\n",
       "  'Canción': 'Hotline Bling',\n",
       "  'Duración': '4:27',\n",
       "  'Fecha de Lanzamiento': '2015'},\n",
       " {'Artista': 'Kanye West',\n",
       "  'Correo Electrónico': 'bruno.mars@outlook.com ',\n",
       "  'Teléfono de Contacto': '+13 678901234',\n",
       "  'Sitio Web': 'https://brunomars.com ',\n",
       "  'Canción': 'Stronger',\n",
       "  'Duración': '5:12',\n",
       "  'Fecha de Lanzamiento': '2007'},\n",
       " {'Artista': 'Bruno Mars',\n",
       "  'Correo Electrónico': 'ariana.grande@yahoo.com ',\n",
       "  'Teléfono de Contacto': '+1 789012345',\n",
       "  'Sitio Web': 'https://arianagrande.com ',\n",
       "  'Canción': 'Uptown Funk',\n",
       "  'Duración': '4:30',\n",
       "  'Fecha de Lanzamiento': '2014'},\n",
       " {'Artista': 'Ariana Grande',\n",
       "  'Correo Electrónico': 'shakira@hotmail.com ',\n",
       "  'Teléfono de Contacto': '+23 890123456',\n",
       "  'Sitio Web': 'http://shakira.com ',\n",
       "  'Canción': '7 Rings',\n",
       "  'Duración': '2:58',\n",
       "  'Fecha de Lanzamiento': '2019'},\n",
       " {'Artista': 'Shakira,',\n",
       "  'Correo Electrónico': 'info@coldplay.com ',\n",
       "  'Teléfono de Contacto': '+57 123456789',\n",
       "  'Sitio Web': 'http://coldplay.com ',\n",
       "  'Canción': \"Hips Don't Lie\",\n",
       "  'Duración': '3:38',\n",
       "  'Fecha de Lanzamiento': '2006'},\n",
       " {'Artista': 'Coldplay',\n",
       "  'Correo Electrónico': 'lady.gaga@gmail.com ',\n",
       "  'Teléfono de Contacto': '+57 234567890',\n",
       "  'Sitio Web': 'https://ladygaga.com ',\n",
       "  'Canción': 'Yellow',\n",
       "  'Duración': '4:26',\n",
       "  'Fecha de Lanzamiento': '2000'}]"
      ]
     },
     "execution_count": 197,
     "metadata": {},
     "output_type": "execute_result"
    }
   ],
   "source": [
    "#Por saber un poco, reutilizo los diccionarios creados anteriormente que tengo en listas\n",
    "#artistas = list(map(crear_diccionario,nombre,correo,telefono,web))\n",
    "    #dickens = {\"Nombre\" : name,\"Correo electrónico\": email,\"Número de contacto\":number,\"Sitio Web\": site}\n",
    "#canciones = list(map(pictionary,titulo,duracion,fecha_lanzamiento))\n",
    "    #canciones = {\"Título\":title,\"Duración\":duration,\"Fecha de lanzamiento\":year}\n",
    "def unir_diccionarios(ld1,ld2):\n",
    "    \n",
    "    name = ld1[\"Nombre\"]\n",
    "    name = \" \".join(re.findall('[A-Z][^A-Z]*', name))\n",
    "    mail = ld1[\"Correo electrónico\"]\n",
    "    tlf = ld1[\"Número de contacto\"]\n",
    "    pgweb = ld1[\"Sitio Web\"]\n",
    "    song = ld2[\"Título\"]\n",
    "    duration = ld2[\"Duración\"]\n",
    "    year = ld2[\"Fecha de lanzamiento\"]\n",
    "\n",
    "    final_boss = {\n",
    "        \"Artista\" : name,\n",
    "        \"Correo Electrónico\" : mail,\n",
    "        \"Teléfono de Contacto\" : tlf,\n",
    "        \"Sitio Web\" : pgweb,\n",
    "        \"Canción\" : song,\n",
    "        \"Duración\" : duration,\n",
    "        \"Fecha de Lanzamiento\" : year\n",
    "    }\n",
    "    return final_boss\n",
    "\n",
    "lista_total= list(map(unir_diccionarios,artistas,canciones))\n",
    "lista_total"
   ]
  },
  {
   "cell_type": "markdown",
   "metadata": {},
   "source": [
    "### Ejercicio 2: Análisis de datos\n",
    "Usa las **expresiones regulares** para extraer la siguiente información:"
   ]
  },
  {
   "cell_type": "markdown",
   "metadata": {},
   "source": [
    "#### 2.1 Busca la palabra más repetida en el texto completo.\n"
   ]
  },
  {
   "cell_type": "code",
   "execution_count": 169,
   "metadata": {},
   "outputs": [
    {
     "name": "stdout",
     "output_type": "stream",
     "text": [
      "The Beatles\n"
     ]
    }
   ],
   "source": []
  },
  {
   "cell_type": "markdown",
   "metadata": {},
   "source": [
    "#### 2.2 Busca la palabra que más repetida en cada cación.\n"
   ]
  },
  {
   "cell_type": "code",
   "execution_count": 11,
   "metadata": {},
   "outputs": [],
   "source": []
  },
  {
   "cell_type": "markdown",
   "metadata": {},
   "source": [
    "#### 2.3 Busca el nombre de la canción que más dura.\n"
   ]
  },
  {
   "cell_type": "code",
   "execution_count": 203,
   "metadata": {},
   "outputs": [
    {
     "data": {
      "text/plain": [
       "[{'Artista': 'The Beatles',\n",
       "  'Correo Electrónico': 'elton.john@hotmail.com ',\n",
       "  'Teléfono de Contacto': '+44 234567890',\n",
       "  'Sitio Web': 'http://eltonjohn.com ',\n",
       "  'Canción': 'Hey Jude',\n",
       "  'Duración': '7:11',\n",
       "  'Fecha de Lanzamiento': '1968'}]"
      ]
     },
     "execution_count": 203,
     "metadata": {},
     "output_type": "execute_result"
    }
   ],
   "source": [
    "def a_segundos(popi):\n",
    "    \"\"\"_Sacar Minutos_\n",
    "\n",
    "    Args:\n",
    "        Sacamos los minutos\n",
    "\n",
    "    Returns:\n",
    "        Los devolvemos en una lista\n",
    "    \"\"\"\n",
    "    duracion = popi[\"Duración\"]\n",
    "    separar = duracion.split(\":\")\n",
    "    mins2secs = int(separar[0]) #Si lo se, me he complicado by the fucking face, pero ya lo tengo hecho y no me apetece hacerlo mejor, funciona, por ahora.\n",
    "    return mins2secs\n",
    "\n",
    "def a_buscar(search):\n",
    "    \"\"\"Buscar\n",
    "\n",
    "    Args:\n",
    "        Entra la lista total y busca el máximo encontrado con Map\n",
    "\n",
    "    Returns:\n",
    "        Devuelve las ganas de vivir, digo un booleano que deja el único\n",
    "    \"\"\"\n",
    "    duracion = search[\"Duración\"].startswith(str(max(pancreas)))#Solo vale aqui porque solo hay un 7\n",
    "    return duracion\n",
    "\n",
    "pancreas = list(map(a_segundos,lista_total))\n",
    "list(filter(a_buscar,lista_total))"
   ]
  },
  {
   "cell_type": "markdown",
   "metadata": {},
   "source": [
    "#### 2.4 Busca el nombre de la canción que menos dura."
   ]
  },
  {
   "cell_type": "code",
   "execution_count": 207,
   "metadata": {},
   "outputs": [
    {
     "data": {
      "text/plain": [
       "[{'Artista': 'Ariana Grande',\n",
       "  'Correo Electrónico': 'shakira@hotmail.com ',\n",
       "  'Teléfono de Contacto': '+23 890123456',\n",
       "  'Sitio Web': 'http://shakira.com ',\n",
       "  'Canción': '7 Rings',\n",
       "  'Duración': '2:58',\n",
       "  'Fecha de Lanzamiento': '2019'}]"
      ]
     },
     "execution_count": 207,
     "metadata": {},
     "output_type": "execute_result"
    }
   ],
   "source": [
    "def a_segundos2(popa):\n",
    "    \"\"\"_Sacar Minutos_\n",
    "\n",
    "    Args:\n",
    "        Sacamos los minutos\n",
    "\n",
    "    Returns:\n",
    "        Los devolvemos en una lista\n",
    "    \"\"\"\n",
    "    duracion = popa[\"Duración\"]\n",
    "    separar = duracion.split(\":\")\n",
    "    mins2secs = int(separar[0]) \n",
    "    return mins2secs\n",
    "\n",
    "def a_buscar_a_nemo(search):\n",
    "    \"\"\"Buscar\n",
    "\n",
    "    Args:\n",
    "        Entra la lista total y busca el mínimo encontrado con Map\n",
    "\n",
    "    Returns:\n",
    "        Devuelve las ganas de vivir, digo un booleano que deja el único\n",
    "    \"\"\"\n",
    "    duracion = search[\"Duración\"].startswith(str(min(pancreas)))#Pa este caso vale porque solo hay un 2\n",
    "    return duracion\n",
    "\n",
    "pancreas = list(map(a_segundos2,lista_total))\n",
    "list(filter(a_buscar_a_nemo,lista_total))"
   ]
  },
  {
   "cell_type": "markdown",
   "metadata": {},
   "source": [
    "#### 2.5 Busca el nombre y la fecha de lanzamiento de la canción más actual."
   ]
  },
  {
   "cell_type": "code",
   "execution_count": 210,
   "metadata": {},
   "outputs": [
    {
     "data": {
      "text/plain": [
       "[{'Artista': 'Ariana Grande',\n",
       "  'Correo Electrónico': 'shakira@hotmail.com ',\n",
       "  'Teléfono de Contacto': '+23 890123456',\n",
       "  'Sitio Web': 'http://shakira.com ',\n",
       "  'Canción': '7 Rings',\n",
       "  'Duración': '2:58',\n",
       "  'Fecha de Lanzamiento': '2019'}]"
      ]
     },
     "execution_count": 210,
     "metadata": {},
     "output_type": "execute_result"
    }
   ],
   "source": [
    "def reciente(porrompompero):\n",
    "    \"\"\"Reciente\n",
    "\n",
    "    Args:\n",
    "        Sacamos el año \n",
    "\n",
    "    Returns:\n",
    "        Los devolvemos en una lista\n",
    "    \"\"\"\n",
    "    year = porrompompero[\"Fecha de Lanzamiento\"]\n",
    "   \n",
    "\n",
    "    return year\n",
    "\n",
    "def masi(libido):\n",
    "    \"\"\"Filtrar cancion más actual\n",
    "\n",
    "    Args:\n",
    "        libido (dict): Recibe el diccionario\n",
    "\n",
    "    Returns:\n",
    "        Buscamos el máximo de la lista que hicimos con map y devolvemos solo aquel que tenga dicho año\n",
    "    \"\"\"\n",
    "    maximiliano = max(juanjo)\n",
    "    return libido[\"Fecha de Lanzamiento\"] == maximiliano\n",
    "    \n",
    "\n",
    "juanjo = list(map(reciente,lista_total))\n",
    "list(filter(masi,lista_total))"
   ]
  },
  {
   "cell_type": "markdown",
   "metadata": {},
   "source": [
    "#### 2.6 Calcula la cantidad de países a partir de los números de contacto."
   ]
  },
  {
   "cell_type": "code",
   "execution_count": 217,
   "metadata": {},
   "outputs": [
    {
     "name": "stdout",
     "output_type": "stream",
     "text": [
      "La cantidad de paises es de 9\n"
     ]
    }
   ],
   "source": [
    "def separar_prefijos(prefis):\n",
    "    jose = prefis[\"Teléfono de Contacto\"].split()\n",
    "    luis = jose[0].split(\"+\")\n",
    "    ruiperez = luis[1]\n",
    "    return ruiperez\n",
    "\n",
    "betis = list(map(separar_prefijos,lista_total))\n",
    "\n",
    "no_vale_repetir = set()\n",
    "\n",
    "for i in range(0,len(betis)):\n",
    "    try:\n",
    "        no_vale_repetir.add(betis[i])\n",
    "    except:\n",
    "        pass\n",
    "paises = len(no_vale_repetir)\n",
    "print(f\"La cantidad de paises es de {paises}\")\n"
   ]
  },
  {
   "cell_type": "markdown",
   "metadata": {},
   "source": [
    "#### 2.7 Agrupa las canciones por década."
   ]
  },
  {
   "cell_type": "code",
   "execution_count": 218,
   "metadata": {},
   "outputs": [
    {
     "data": {
      "text/plain": [
       "['1965',\n",
       " '1968',\n",
       " '1970',\n",
       " '1975',\n",
       " '1982',\n",
       " '1989',\n",
       " '1969',\n",
       " '1991',\n",
       " '2011',\n",
       " '2017',\n",
       " '2008',\n",
       " '2014',\n",
       " '2012',\n",
       " '2015',\n",
       " '2007',\n",
       " '2014',\n",
       " '2019',\n",
       " '2006',\n",
       " '2000']"
      ]
     },
     "execution_count": 218,
     "metadata": {},
     "output_type": "execute_result"
    }
   ],
   "source": [
    "los60 = []\n",
    "los70 = []\n",
    "los90 = []\n",
    "los2000 = []\n",
    "los2010 = []\n",
    "\n",
    "def reciente(porrompompero):\n",
    "    \"\"\"Reciente\n",
    "\n",
    "    Args:\n",
    "        Sacamos el año \n",
    "\n",
    "    Returns:\n",
    "        Los devolvemos en una lista\n",
    "    \"\"\"\n",
    "    year = porrompompero[\"Fecha de Lanzamiento\"]\n",
    "    return year\n",
    "\n",
    "\n",
    "\n",
    "list(map(reciente,lista_total))"
   ]
  }
 ],
 "metadata": {
  "kernelspec": {
   "display_name": "envpruebas",
   "language": "python",
   "name": "python3"
  },
  "language_info": {
   "codemirror_mode": {
    "name": "ipython",
    "version": 3
   },
   "file_extension": ".py",
   "mimetype": "text/x-python",
   "name": "python",
   "nbconvert_exporter": "python",
   "pygments_lexer": "ipython3",
   "version": "3.11.9"
  }
 },
 "nbformat": 4,
 "nbformat_minor": 2
}
