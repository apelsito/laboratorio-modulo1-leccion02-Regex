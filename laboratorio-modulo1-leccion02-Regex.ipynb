{
 "cells": [
  {
   "cell_type": "markdown",
   "metadata": {},
   "source": [
    "<div style=\"text-align: center;\">\n",
    "  <img src=\"https://github.com/Hack-io-Data/Imagenes/blob/main/01-LogosHackio/logo_naranja@4x.png?raw=true\" alt=\"esquema\" />\n",
    "</div>"
   ]
  },
  {
   "cell_type": "markdown",
   "metadata": {},
   "source": [
    "# Laboratorio de Regex:"
   ]
  },
  {
   "cell_type": "markdown",
   "metadata": {},
   "source": [
    "### Ejercicio 1: Extracción de datos.\n",
    "\n",
    "Recuerda que necesitamos hacer importaciones antes de enfrentarnos a un problema. "
   ]
  },
  {
   "cell_type": "code",
   "execution_count": 17,
   "metadata": {},
   "outputs": [],
   "source": [
    "# Importaciones:\n",
    "## Para trabajar con expresiones regulares\n",
    "import re \n",
    "\n",
    "## Para contar las palabras de un texto \n",
    "from collections import Counter "
   ]
  },
  {
   "cell_type": "markdown",
   "metadata": {},
   "source": [
    "Dado el archivo `datos_artistas.txt` usa las **expresiones regulares** para extraer los siguientes datos, con el código que encontrarás en la siguiente celda:"
   ]
  },
  {
   "cell_type": "code",
   "execution_count": 18,
   "metadata": {},
   "outputs": [
    {
     "name": "stdout",
     "output_type": "stream",
     "text": [
      "BobDylan bob.dylan@gmail.com -1 123456789 http://bobdylan.com Like a Rolling Stone - 6:13 1965 Once upon a time you dressed so fine\n",
      "Threw the bums a dime in your prime, didn't you?\n",
      "People call say 'be\n"
     ]
    }
   ],
   "source": [
    "with open('Datos\\datos_artistas.txt', 'r',encoding=\"utf8\") as archivo:\n",
    "    contenido = archivo.read()\n",
    "    # Aquí puedes trabajar con el contenido del archivo\n",
    "\n",
    "print(contenido[:200])"
   ]
  },
  {
   "cell_type": "markdown",
   "metadata": {},
   "source": [
    "#### 1.1 La información de cada artista(nombre, correo de contacto, número de contacto y sitio web)."
   ]
  },
  {
   "cell_type": "code",
   "execution_count": 111,
   "metadata": {},
   "outputs": [
    {
     "name": "stdout",
     "output_type": "stream",
     "text": [
      "20\n"
     ]
    },
    {
     "data": {
      "text/plain": [
       "[{'Nombre': 'BobDylan',\n",
       "  'Correo electrónico': 'bob.dylan@gmail.com ',\n",
       "  'Número de contacto': '+1 123456789',\n",
       "  'Sitio Web': 'http://bobdylan.com '},\n",
       " {'Nombre': 'TheBeatles',\n",
       "  'Correo electrónico': 'elton.john@hotmail.com ',\n",
       "  'Número de contacto': '+44 234567890',\n",
       "  'Sitio Web': 'http://eltonjohn.com '},\n",
       " {'Nombre': 'EltonJohn',\n",
       "  'Correo electrónico': 'info@queenonline.com ',\n",
       "  'Número de contacto': '+34 345678901',\n",
       "  'Sitio Web': 'http://queenonline.com '},\n",
       " {'Nombre': 'Queen',\n",
       "  'Correo electrónico': 'michael.jackson@yahoo.com ',\n",
       "  'Número de contacto': '+23 456789012',\n",
       "  'Sitio Web': 'http://michaeljackson.com '},\n",
       " {'Nombre': 'MichaelJackson',\n",
       "  'Correo electrónico': 'madonna@madonna.com ',\n",
       "  'Número de contacto': '+1 567890123',\n",
       "  'Sitio Web': 'http://madonna.com '},\n",
       " {'Nombre': 'Madonna',\n",
       "  'Correo electrónico': 'david.bowie@outlook.com ',\n",
       "  'Número de contacto': '+11 678901234',\n",
       "  'Sitio Web': 'http://davidbowie.com '},\n",
       " {'Nombre': 'DavidBowie',\n",
       "  'Correo electrónico': 'contact@nirvana.com ',\n",
       "  'Número de contacto': '+44 789012345',\n",
       "  'Sitio Web': 'http://nirvana.com '},\n",
       " {'Nombre': 'Nirvana',\n",
       "  'Correo electrónico': 'adele@adele.com ',\n",
       "  'Número de contacto': '+2 890123456',\n",
       "  'Sitio Web': 'http://adele.com '},\n",
       " {'Nombre': 'Adele',\n",
       "  'Correo electrónico': 'ed.sheeran@gmail.com ',\n",
       "  'Número de contacto': '+44 901234567',\n",
       "  'Sitio Web': 'http://edsheeran.com '},\n",
       " {'Nombre': 'EdSheeran',\n",
       "  'Correo electrónico': 'beyonce@beyonce.com ',\n",
       "  'Número de contacto': '+44 123456789',\n",
       "  'Sitio Web': 'http://beyonce.com '},\n",
       " {'Nombre': 'Beyoncé',\n",
       "  'Correo electrónico': 'taylor.swift@yahoo.com ',\n",
       "  'Número de contacto': '+1 234567890',\n",
       "  'Sitio Web': 'http://taylorswift.com '},\n",
       " {'Nombre': 'TaylorSwift',\n",
       "  'Correo electrónico': 'rihanna@hotmail.com ',\n",
       "  'Número de contacto': '+34 345678901',\n",
       "  'Sitio Web': 'http://rihanna.com '},\n",
       " {'Nombre': 'Rihanna',\n",
       "  'Correo electrónico': 'drake@drake.com ',\n",
       "  'Número de contacto': '+1 456789012',\n",
       "  'Sitio Web': 'http://drake.com '},\n",
       " {'Nombre': 'Drake,',\n",
       "  'Correo electrónico': 'kanye.west@gmail.com ',\n",
       "  'Número de contacto': '+54 567890123',\n",
       "  'Sitio Web': 'http://kanyewest.com '},\n",
       " {'Nombre': 'KanyeWest',\n",
       "  'Correo electrónico': 'bruno.mars@outlook.com ',\n",
       "  'Número de contacto': '+13 678901234',\n",
       "  'Sitio Web': 'https://brunomars.com '},\n",
       " {'Nombre': 'BrunoMars',\n",
       "  'Correo electrónico': 'ariana.grande@yahoo.com ',\n",
       "  'Número de contacto': '+1 789012345',\n",
       "  'Sitio Web': 'https://arianagrande.com '},\n",
       " {'Nombre': 'ArianaGrande',\n",
       "  'Correo electrónico': 'shakira@hotmail.com ',\n",
       "  'Número de contacto': '+23 890123456',\n",
       "  'Sitio Web': 'http://shakira.com '},\n",
       " {'Nombre': 'Shakira,',\n",
       "  'Correo electrónico': 'info@coldplay.com ',\n",
       "  'Número de contacto': '+57 123456789',\n",
       "  'Sitio Web': 'http://coldplay.com '},\n",
       " {'Nombre': 'Coldplay',\n",
       "  'Correo electrónico': 'lady.gaga@gmail.com ',\n",
       "  'Número de contacto': '+57 234567890',\n",
       "  'Sitio Web': 'https://ladygaga.com '}]"
      ]
     },
     "execution_count": 111,
     "metadata": {},
     "output_type": "execute_result"
    }
   ],
   "source": [
    "import re\n",
    "def obtenernombre(lista_nombre):\n",
    "    \"\"\"_Obtener Nombre_\n",
    "\n",
    "    Args:\n",
    "        lista_nombre (lista): _recibe una lista de string_\n",
    "\n",
    "    Returns:\n",
    "        _string_: _Splitea la lista en otra y devuelve el primer valor_\n",
    "    \"\"\"\n",
    "    separar = lista_nombre.split()\n",
    "    nombre = separar[0]\n",
    "    return nombre\n",
    "\n",
    "def crear_diccionario(name, email, number, site):\n",
    "    dickens = {\"Nombre\" : name,\"Correo electrónico\": email,\"Número de contacto\":number,\"Sitio Web\": site}\n",
    "    return dickens\n",
    "\n",
    "def add_prefijo(valor):\n",
    "    return re.sub(\"[-]\",\"+\",valor)\n",
    "\n",
    "contenido_separado = contenido.split(\"./\")\n",
    "patron_correo = r\"\\w+\\.?\\w+[@]+[a-zA-Z]*\\.\\w{2,3}\\s\"\n",
    "patron_web = r\"\\w+[:/]+[a-zA-Z]*\\.\\w{2,3}\\s\"\n",
    "patron_telefono = r\"[-]\\d{1,2}\\s\\d{9}\"\n",
    "\n",
    "nombre = list(map(obtenernombre,contenido_separado))\n",
    "correo = re.findall(patron_correo,contenido)\n",
    "telefono = re.findall(patron_telefono,contenido)\n",
    "telefono = list(map(add_prefijo,telefono))\n",
    "web = re.findall(patron_web,contenido)\n",
    "list(map(crear_diccionario,nombre,correo,telefono,web))"
   ]
  },
  {
   "cell_type": "markdown",
   "metadata": {},
   "source": [
    "#### 1.2 La información de cada canción(título, duración y fecha de lanzamiento)."
   ]
  },
  {
   "cell_type": "code",
   "execution_count": 118,
   "metadata": {},
   "outputs": [
    {
     "data": {
      "text/plain": [
       "['Like a Rolling Stone',\n",
       " 'Hey Jude',\n",
       " 'Your Song',\n",
       " 'Bohemian Rhapsody',\n",
       " 'Billie Jean',\n",
       " 'Like a Prayer',\n",
       " 'Space Oddity',\n",
       " 'Smells Like Teen Spirit',\n",
       " 'Someone Like You',\n",
       " 'Shape of You',\n",
       " 'Halo',\n",
       " 'Blank Space',\n",
       " 'Diamonds',\n",
       " 'Hotline Bling',\n",
       " 'Stronger',\n",
       " 'Uptown Funk',\n",
       " '7 Rings',\n",
       " \"Hips Don't Lie\",\n",
       " 'Yellow',\n",
       " 'Bad Romance']"
      ]
     },
     "execution_count": 118,
     "metadata": {},
     "output_type": "execute_result"
    }
   ],
   "source": [
    "#contenido está\n",
    "patron_titulo = r\"\\.+[a-z]{2,3}\\s(.\\D.+)\\s[-]\"\n",
    "titulo = re.findall(patron_titulo,contenido)\n",
    "titulo"
   ]
  },
  {
   "cell_type": "markdown",
   "metadata": {},
   "source": [
    "#### 1.3 Almacena la información en una lista de diccionarios donde cada diccionario contenga los datos de un artista y su canción asociada."
   ]
  },
  {
   "cell_type": "code",
   "execution_count": 17,
   "metadata": {},
   "outputs": [],
   "source": []
  },
  {
   "cell_type": "markdown",
   "metadata": {},
   "source": [
    "### Ejercicio 2: Análisis de datos\n",
    "Usa las **expresiones regulares** para extraer la siguiente información:"
   ]
  },
  {
   "cell_type": "markdown",
   "metadata": {},
   "source": [
    "#### 2.1 Busca la palabra más repetida en el texto completo.\n"
   ]
  },
  {
   "cell_type": "code",
   "execution_count": 19,
   "metadata": {},
   "outputs": [],
   "source": []
  },
  {
   "cell_type": "markdown",
   "metadata": {},
   "source": [
    "#### 2.2 Busca la palabra que más repetida en cada cación.\n"
   ]
  },
  {
   "cell_type": "code",
   "execution_count": 11,
   "metadata": {},
   "outputs": [],
   "source": []
  },
  {
   "cell_type": "markdown",
   "metadata": {},
   "source": [
    "#### 2.3 Busca el nombre de la canción que más dura.\n"
   ]
  },
  {
   "cell_type": "code",
   "execution_count": 30,
   "metadata": {},
   "outputs": [],
   "source": []
  },
  {
   "cell_type": "markdown",
   "metadata": {},
   "source": [
    "#### 2.4 Busca el nombre de la canción que menos dura."
   ]
  },
  {
   "cell_type": "code",
   "execution_count": null,
   "metadata": {},
   "outputs": [],
   "source": []
  },
  {
   "cell_type": "markdown",
   "metadata": {},
   "source": [
    "#### 2.5 Busca el nombre y la fecha de lanzamiento de la canción más actual."
   ]
  },
  {
   "cell_type": "code",
   "execution_count": 39,
   "metadata": {},
   "outputs": [],
   "source": []
  },
  {
   "cell_type": "markdown",
   "metadata": {},
   "source": [
    "#### 2.6 Calcula la cantidad de países a partir de los números de contacto."
   ]
  },
  {
   "cell_type": "code",
   "execution_count": 43,
   "metadata": {},
   "outputs": [],
   "source": []
  },
  {
   "cell_type": "markdown",
   "metadata": {},
   "source": [
    "#### 2.7 Agrupa las canciones por década."
   ]
  },
  {
   "cell_type": "code",
   "execution_count": 47,
   "metadata": {},
   "outputs": [],
   "source": []
  }
 ],
 "metadata": {
  "kernelspec": {
   "display_name": "envpruebas",
   "language": "python",
   "name": "python3"
  },
  "language_info": {
   "codemirror_mode": {
    "name": "ipython",
    "version": 3
   },
   "file_extension": ".py",
   "mimetype": "text/x-python",
   "name": "python",
   "nbconvert_exporter": "python",
   "pygments_lexer": "ipython3",
   "version": "3.11.9"
  }
 },
 "nbformat": 4,
 "nbformat_minor": 2
}
